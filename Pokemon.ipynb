{
 "cells": [
  {
   "cell_type": "code",
   "execution_count": 88,
   "metadata": {},
   "outputs": [],
   "source": [
    "import pandas as pd\n",
    "\n",
    "from sklearn.ensemble import RandomForestClassifier,GradientBoostingClassifier\n",
    "from sklearn.linear_model import LogisticRegression\n",
    "from sklearn.model_selection import train_test_split\n",
    "from sklearn.preprocessing import MultiLabelBinarizer"
   ]
  },
  {
   "cell_type": "code",
   "execution_count": 89,
   "metadata": {},
   "outputs": [],
   "source": [
    "pokemon = pd.read_csv('Data/pokemon.csv')\n",
    "pokemon = pokemon.dropna(axis=1)"
   ]
  },
  {
   "cell_type": "code",
   "execution_count": 90,
   "metadata": {},
   "outputs": [
    {
     "data": {
      "text/plain": [
       "abilities             object\n",
       "against_bug          float64\n",
       "against_dark         float64\n",
       "against_dragon       float64\n",
       "against_electric     float64\n",
       "against_fairy        float64\n",
       "against_fight        float64\n",
       "against_fire         float64\n",
       "against_flying       float64\n",
       "against_ghost        float64\n",
       "against_grass        float64\n",
       "against_ground       float64\n",
       "against_ice          float64\n",
       "against_normal       float64\n",
       "against_poison       float64\n",
       "against_psychic      float64\n",
       "against_rock         float64\n",
       "against_steel        float64\n",
       "against_water        float64\n",
       "attack                 int64\n",
       "base_egg_steps         int64\n",
       "base_happiness         int64\n",
       "base_total             int64\n",
       "capture_rate          object\n",
       "classification        object\n",
       "defense                int64\n",
       "experience_growth      int64\n",
       "hp                     int64\n",
       "japanese_name         object\n",
       "name                  object\n",
       "pokedex_number         int64\n",
       "sp_attack              int64\n",
       "sp_defense             int64\n",
       "speed                  int64\n",
       "type1                 object\n",
       "generation             int64\n",
       "is_legendary           int64\n",
       "dtype: object"
      ]
     },
     "execution_count": 90,
     "metadata": {},
     "output_type": "execute_result"
    }
   ],
   "source": [
    "pokemon.dtypes"
   ]
  },
  {
   "cell_type": "code",
   "execution_count": 91,
   "metadata": {},
   "outputs": [],
   "source": [
    "from sklearn.preprocessing import MultiLabelBinarizer\n",
    "mlb = MultiLabelBinarizer()\n",
    "pokemon = pokemon.join(pd.DataFrame(mlb.fit_transform(list(pokemon.pop('abilities'))),\n",
    "                          columns=mlb.classes_,\n",
    "                          index=pokemon.index))"
   ]
  },
  {
   "cell_type": "code",
   "execution_count": 92,
   "metadata": {},
   "outputs": [
    {
     "data": {
      "text/plain": [
       "against_bug         float64\n",
       "against_dark        float64\n",
       "against_dragon      float64\n",
       "against_electric    float64\n",
       "against_fairy       float64\n",
       "                     ...   \n",
       "v                     int64\n",
       "w                     int64\n",
       "x                     int64\n",
       "y                     int64\n",
       "z                     int64\n",
       "Length: 92, dtype: object"
      ]
     },
     "execution_count": 92,
     "metadata": {},
     "output_type": "execute_result"
    }
   ],
   "source": [
    "pokemon.dtypes"
   ]
  },
  {
   "cell_type": "code",
   "execution_count": null,
   "metadata": {},
   "outputs": [],
   "source": []
  }
 ],
 "metadata": {
  "kernelspec": {
   "display_name": "Python 3",
   "language": "python",
   "name": "python3"
  },
  "language_info": {
   "codemirror_mode": {
    "name": "ipython",
    "version": 3
   },
   "file_extension": ".py",
   "mimetype": "text/x-python",
   "name": "python",
   "nbconvert_exporter": "python",
   "pygments_lexer": "ipython3",
   "version": "3.8.5"
  }
 },
 "nbformat": 4,
 "nbformat_minor": 4
}
